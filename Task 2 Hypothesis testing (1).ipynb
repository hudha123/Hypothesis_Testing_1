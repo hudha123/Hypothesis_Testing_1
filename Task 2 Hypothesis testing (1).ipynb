{
 "cells": [
  {
   "cell_type": "markdown",
   "id": "00594e0d-7610-406b-897b-437fa0894558",
   "metadata": {},
   "source": [
    "#### 1)Suppose a child psychologist says that the average time that working mothers spend talking to their children is at-least 11 minutes per day. You want to test You conduct a random sample of 1000 working mothers and find they spend an average of 11.5 minutes per day talking with their children. Assume prior research suggests the population standard deviation is 2.3 minutes.Conduct test with a level of significance of alpha=0.05."
   ]
  },
  {
   "cell_type": "code",
   "execution_count": 8,
   "id": "32c6b2f4-e454-4b86-9482-e835283d7462",
   "metadata": {},
   "outputs": [],
   "source": [
    "import numpy as np\n",
    "import scipy.stats as stats"
   ]
  },
  {
   "cell_type": "code",
   "execution_count": 9,
   "id": "262ec8a8-1a7e-49d8-a9e0-54039f27117e",
   "metadata": {},
   "outputs": [
    {
     "name": "stdout",
     "output_type": "stream",
     "text": [
      "standard error : 0.07273238618387272\n",
      "z score : 6.874516652539955\n",
      "critical value of z @ 5% level: -1.6448536269514729\n",
      "Reject null hypothesis\n",
      "The average time that working mothers spend talking to their children is less than 11 minutes per day\n"
     ]
    }
   ],
   "source": [
    "# Given that,\n",
    "# H0: μ >= 11 (where μ is the population mean)\n",
    "# H1: μ < 11\n",
    "\n",
    "μ=11            #population_mean\n",
    "xbar=11.5       #sample_mean\n",
    "sigma=2.3       #Population_std\n",
    "n=1000          #sample_size\n",
    "alpha=0.05      #level of significance\n",
    "\n",
    "# standard error\n",
    "standard_error=(sigma/(np.sqrt(n)))\n",
    "print(\"standard error :\",standard_error)\n",
    "\n",
    "# Test statistic\n",
    "z_test=(xbar-μ)/standard_error\n",
    "print(\"z score :\" ,z_test)\n",
    "\n",
    "# Calculate critical value:\n",
    "# from  H0 & H1 clear that,it is left tail test.\n",
    "z_critical=stats.norm.ppf(alpha)\n",
    "print(\"critical value of z @ 5% level:\",z_critical)\n",
    "\n",
    "if z_test>z_critical:\n",
    "    print(\"Reject null hypothesis\")\n",
    "    print(\"The average time that working mothers spend talking to their children is less than 11 minutes per day\")\n",
    "else:\n",
    "    print(\"Accept null hypothesis\")\n",
    "    print(\"The average time that working mothers spend talking to their children is at-least 11 minutes per day\")\n"
   ]
  },
  {
   "cell_type": "markdown",
   "id": "43aa8362-f202-4040-9cfd-aba96fb72470",
   "metadata": {},
   "source": [
    "#### 2)A coffee shop claims that their average wait time for customers is less than 5 minutes. To test this claim, a sample of 40 customers is taken, and their wait times are recorded. The sample mean wait time is found to be 4.6 minutes with a standard deviation of 0.8 minutes. Perform a hypothesis test at a significance level of 0.05 and determine whether there is enough evidence to support the coffee shop's claim.Perform the hypothesis testing using correct test statistics and appropriate critical value"
   ]
  },
  {
   "cell_type": "code",
   "execution_count": 10,
   "id": "a5e8c1d2-64ae-4743-9edf-2dc4ad466b8c",
   "metadata": {},
   "outputs": [
    {
     "name": "stdout",
     "output_type": "stream",
     "text": [
      "standard error : 0.12649110640673517\n",
      "z score : -3.162277660168382\n",
      "critical value of z @ 5% level: 1.6448536269514722\n",
      "Accept null hypothesis\n",
      "There is  enough evidence to support the coffee shop's claim.\n"
     ]
    }
   ],
   "source": [
    "# Given that,\n",
    "# H0: μ < 5 (where μ is the population mean)\n",
    "# H1: μ >= 5 \n",
    "\n",
    "μ=5             #population_mean\n",
    "xbar=4.6        #sample_mean\n",
    "s=0.8           #sample_std\n",
    "n=40            #sample_size\n",
    "alpha=0.05      #level of significance\n",
    "\n",
    "# standard error\n",
    "standard_error=(s/(np.sqrt(n)))\n",
    "print(\"standard error :\",standard_error)\n",
    "\n",
    "# Test statistic\n",
    "z_test=(xbar-μ)/standard_error\n",
    "print(\"z score :\" ,z_test)\n",
    "\n",
    "# Calculate critical value\n",
    "# from  H0 & H1 clear that,it is right tail test.\n",
    "z_critical=stats.norm.ppf(1-alpha)\n",
    "print(\"critical value of z @ 5% level:\",z_critical)\n",
    "\n",
    "if z_test>z_critical:\n",
    "    print(\"Reject null hypothesis\")\n",
    "    print(\"There is no enough evidence to support the coffee shop's claim.\")\n",
    "else:\n",
    "    print(\"Accept null hypothesis\")\n",
    "    print(\"There is  enough evidence to support the coffee shop's claim.\")"
   ]
  },
  {
   "cell_type": "code",
   "execution_count": null,
   "id": "dc2de11d-da68-4711-971c-55e7c8a20d1a",
   "metadata": {},
   "outputs": [],
   "source": []
  },
  {
   "cell_type": "code",
   "execution_count": null,
   "id": "07376a85-0d2d-4b4a-a291-5409f0d7168a",
   "metadata": {},
   "outputs": [],
   "source": []
  }
 ],
 "metadata": {
  "kernelspec": {
   "display_name": "Python 3 (ipykernel)",
   "language": "python",
   "name": "python3"
  },
  "language_info": {
   "codemirror_mode": {
    "name": "ipython",
    "version": 3
   },
   "file_extension": ".py",
   "mimetype": "text/x-python",
   "name": "python",
   "nbconvert_exporter": "python",
   "pygments_lexer": "ipython3",
   "version": "3.11.5"
  }
 },
 "nbformat": 4,
 "nbformat_minor": 5
}
